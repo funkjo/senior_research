{
 "metadata": {
  "language_info": {
   "codemirror_mode": {
    "name": "ipython",
    "version": 3
   },
   "file_extension": ".py",
   "mimetype": "text/x-python",
   "name": "python",
   "nbconvert_exporter": "python",
   "pygments_lexer": "ipython3",
   "version": "3.7.9-final"
  },
  "orig_nbformat": 2,
  "kernelspec": {
   "name": "python3",
   "display_name": "Python 3.7.9 64-bit",
   "metadata": {
    "interpreter": {
     "hash": "425c0ff3b57f916dcf47ed9bc3b06c8afea4e3946eb75ed292419f63c36692ce"
    }
   }
  }
 },
 "nbformat": 4,
 "nbformat_minor": 2,
 "cells": [
  {
   "cell_type": "code",
   "execution_count": 64,
   "metadata": {},
   "outputs": [],
   "source": [
    "import numpy as np\n",
    "import matplotlib.pyplot as plt\n",
    "import os\n",
    "import cv2\n",
    "\n",
    "DATADIR = '/Users/johnfunk/OneDrive - Eastern Connecticut State University/Courses/Computer Science/Senior-Research/github-project/senior_research/senior_research/data'\n",
    "# CATEGORIES = ['Car', 'Crosswalk', 'Hydrant', 'TrafficLight']\n",
    "CATEGORIES = ['Hydrant', 'Palm']\n",
    "\n",
    "images = []\n",
    "labels = []\n",
    "\n",
    "for category in CATEGORIES:\n",
    "        path = os.path.join(DATADIR, category)\n",
    "        if category == 'Car' or category == 'Crosswalk':\n",
    "            i = 0\n",
    "            for img in os.listdir(path):\n",
    "                if i == 1000:\n",
    "                    i = 0\n",
    "                    break\n",
    "                converted = cv2.imread(os.path.join(path,img), cv2.IMREAD_GRAYSCALE)\n",
    "                images.append(converted)\n",
    "                if category == 'Car':\n",
    "                    labels.append(0)\n",
    "                else:\n",
    "                    labels.append(1)\n",
    "                i += 1\n",
    "                plt.imshow(converted, cmap='gray')\n",
    "                plt.show()\n",
    "                break\n",
    "        else:\n",
    "            for img in os.listdir(path):\n",
    "                converted = cv2.imread(os.path.join(path,img), cv2.IMREAD_GRAYSCALE)\n",
    "                images.append(converted)\n",
    "                if category == 'Hydrant':\n",
    "                    labels.append(2)\n",
    "                else:\n",
    "                    labels.append(3)\n",
    "        break"
   ]
  },
  {
   "cell_type": "code",
   "execution_count": 66,
   "metadata": {},
   "outputs": [],
   "source": [
    "\n",
    "\n",
    "def create_training_data():\n",
    "    \n",
    "    data = []\n",
    "\n",
    "    # for category in CATEGORIES:\n",
    "    #     path = os.path.join(DATADIR, category)\n",
    "    #     if category == 'Car' or category == 'Crosswalk':\n",
    "    #         i = 0\n",
    "    #         for img in os.listdir(path):\n",
    "    #             if i == 1000:\n",
    "    #                 i = 0\n",
    "    #                 break\n",
    "    #             converted = cv2.imread(os.path.join(path,img), cv2.IMREAD_GRAYSCALE)\n",
    "    #             new = cv2.resize(converted, (100, 100))\n",
    "    #             if category == 'Car':\n",
    "    #                 data.append([new, 0])\n",
    "    #             else:\n",
    "    #                 data.append([new, 1])\n",
    "    #             i += 1\n",
    "    #     else:\n",
    "    #         for img in os.listdir(path):\n",
    "    #             converted = cv2.imread(os.path.join(path,img), cv2.IMREAD_GRAYSCALE)\n",
    "    #             new = cv2.resize(converted, (100, 100))\n",
    "    #             if category == 'Hydrant':\n",
    "    #                 data.append([new, 2])\n",
    "    #             else:\n",
    "    #                 data.append([new, 3])\n",
    "\n",
    "    for category in CATEGORIES:\n",
    "        path = os.path.join(DATADIR, category)\n",
    "        for img in os.listdir(path):\n",
    "            converted = cv2.imread(os.path.join(path,img), cv2.IMREAD_GRAYSCALE)\n",
    "            new = cv2.resize(converted, (100, 100))\n",
    "            data.append([new, CATEGORIES.index(category)])\n",
    "\n",
    "    return data\n",
    "\n",
    "\n",
    "data = create_training_data()"
   ]
  },
  {
   "cell_type": "code",
   "execution_count": 67,
   "metadata": {},
   "outputs": [
    {
     "output_type": "stream",
     "name": "stdout",
     "text": [
      "1904\n"
     ]
    }
   ],
   "source": [
    "print(len(data))"
   ]
  },
  {
   "cell_type": "code",
   "execution_count": 68,
   "metadata": {},
   "outputs": [],
   "source": [
    "import random\n",
    "\n",
    "random.shuffle(data)"
   ]
  },
  {
   "cell_type": "code",
   "execution_count": 69,
   "metadata": {
    "tags": []
   },
   "outputs": [],
   "source": [
    "X = []\n",
    "y = []\n",
    "\n",
    "for features, label in data:\n",
    "    X.append(features)\n",
    "    y.append(label)\n",
    "\n",
    "\n",
    "X = np.array(X).reshape(-1, 100, 100, 1)\n",
    "y = np.array(y)"
   ]
  },
  {
   "cell_type": "code",
   "execution_count": 70,
   "metadata": {},
   "outputs": [
    {
     "output_type": "stream",
     "name": "stdout",
     "text": [
      "(1904, 100, 100, 1)\n(1904,)\n"
     ]
    }
   ],
   "source": [
    "print(X.shape)\n",
    "print(y.shape)"
   ]
  },
  {
   "cell_type": "code",
   "execution_count": 71,
   "metadata": {},
   "outputs": [],
   "source": [
    "from sklearn.model_selection import train_test_split\n",
    "\n",
    "X_train, X_test, y_train, y_test = train_test_split(X, y, test_size=0.05, random_state=32)"
   ]
  },
  {
   "cell_type": "code",
   "execution_count": 72,
   "metadata": {},
   "outputs": [
    {
     "output_type": "stream",
     "name": "stdout",
     "text": [
      "Train on 1808 samples\n",
      "Epoch 1/10\n",
      "1808/1808 [==============================] - 6s 3ms/sample - loss: 203.6755 - accuracy: 0.5636\n",
      "Epoch 2/10\n",
      "1808/1808 [==============================] - 4s 2ms/sample - loss: 11.6970 - accuracy: 0.6643\n",
      "Epoch 3/10\n",
      "1808/1808 [==============================] - 4s 2ms/sample - loss: 9.4908 - accuracy: 0.6681\n",
      "Epoch 4/10\n",
      "1808/1808 [==============================] - 4s 2ms/sample - loss: 9.9607 - accuracy: 0.6598\n",
      "Epoch 5/10\n",
      "1808/1808 [==============================] - 4s 2ms/sample - loss: 13.7508 - accuracy: 0.6726\n",
      "Epoch 6/10\n",
      "1808/1808 [==============================] - 4s 2ms/sample - loss: 15.2923 - accuracy: 0.6582\n",
      "Epoch 7/10\n",
      "1808/1808 [==============================] - 4s 2ms/sample - loss: 8.4668 - accuracy: 0.6930\n",
      "Epoch 8/10\n",
      "1808/1808 [==============================] - 4s 2ms/sample - loss: 6.8526 - accuracy: 0.6858\n",
      "Epoch 9/10\n",
      "1808/1808 [==============================] - 4s 2ms/sample - loss: 8.4892 - accuracy: 0.6991\n",
      "Epoch 10/10\n",
      "1808/1808 [==============================] - 4s 2ms/sample - loss: 4.2604 - accuracy: 0.7135\n"
     ]
    },
    {
     "output_type": "execute_result",
     "data": {
      "text/plain": [
       "<tensorflow.python.keras.callbacks.History at 0x7fd69c3afa10>"
      ]
     },
     "metadata": {},
     "execution_count": 72
    }
   ],
   "source": [
    "import tensorflow as tf\n",
    "\n",
    "model = tf.keras.Sequential([\n",
    "    tf.keras.layers.Flatten(input_shape=(100, 100, 1)),\n",
    "    tf.keras.layers.Dense(128, activation='relu'),\n",
    "    tf.keras.layers.Dense(4)\n",
    "])\n",
    "\n",
    "model.compile(optimizer='adam',\n",
    "              loss=tf.keras.losses.SparseCategoricalCrossentropy(from_logits=True),\n",
    "              metrics=['accuracy'])\n",
    "\n",
    "model.fit(X_train, y_train, epochs=10)"
   ]
  },
  {
   "cell_type": "code",
   "execution_count": null,
   "metadata": {},
   "outputs": [],
   "source": []
  }
 ]
}